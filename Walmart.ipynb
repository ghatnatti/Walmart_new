{
 "cells": [
  {
   "cell_type": "code",
   "execution_count": 2,
   "id": "70c469cb",
   "metadata": {},
   "outputs": [],
   "source": [
    "import pandas as pd\n",
    "import numpy as np\n",
    "from sklearn.impute import SimpleImputer\n",
    "import matplotlib.pyplot as plt\n",
    "import seaborn as sns\n",
    "import warnings\n",
    "warnings.filterwarnings(\"ignore\")"
   ]
  },
  {
   "cell_type": "code",
   "execution_count": 3,
   "id": "89fc40a2",
   "metadata": {},
   "outputs": [],
   "source": [
    "feature=pd.read_csv(\"E:\\\\Dsight\\\\walmart\\\\features.csv\")\n",
    "stores=pd.read_csv(\"E:\\\\Dsight\\\\walmart\\\\stores.csv\")\n",
    "train=pd.read_csv(\"E:\\\\Dsight\\\\walmart\\\\train.csv\")\n",
    "test=pd.read_csv(\"E:\\\\Dsight\\\\walmart\\\\test.csv\")"
   ]
  },
  {
   "cell_type": "code",
   "execution_count": 4,
   "id": "ef7cc398",
   "metadata": {},
   "outputs": [],
   "source": [
    "X=pd.merge(stores,pd.merge(feature,train))\n",
    "Y=pd.merge(stores,pd.merge(feature,test))"
   ]
  },
  {
   "cell_type": "code",
   "execution_count": 5,
   "id": "ac05da0d",
   "metadata": {},
   "outputs": [],
   "source": [
    "X[\"MarkDown1\"]=X[\"MarkDown1\"].fillna(X[\"MarkDown1\"].mean())\n",
    "X[\"MarkDown2\"]=X[\"MarkDown2\"].fillna(X[\"MarkDown2\"].mean())\n",
    "X[\"MarkDown3\"]=X[\"MarkDown3\"].fillna(X[\"MarkDown3\"\n",
    "                                      ].mean())\n",
    "X[\"MarkDown4\"]=X[\"MarkDown4\"].fillna(X[\"MarkDown4\"].mean())\n",
    "X[\"MarkDown5\"]=X[\"MarkDown5\"].fillna(X[\"MarkDown5\"].mean())"
   ]
  },
  {
   "cell_type": "code",
   "execution_count": 8,
   "id": "4e104e43",
   "metadata": {},
   "outputs": [
    {
     "name": "stdout",
     "output_type": "stream",
     "text": [
      "        Store Type    Size        Date  Temperature  Fuel_Price    MarkDown1  \\\n",
      "0           1    A  151315  2010-02-05        42.31       2.572  7246.420196   \n",
      "1           1    A  151315  2010-02-05        42.31       2.572  7246.420196   \n",
      "2           1    A  151315  2010-02-05        42.31       2.572  7246.420196   \n",
      "3           1    A  151315  2010-02-05        42.31       2.572  7246.420196   \n",
      "4           1    A  151315  2010-02-05        42.31       2.572  7246.420196   \n",
      "...       ...  ...     ...         ...          ...         ...          ...   \n",
      "421565     45    B  118221  2012-10-26        58.85       3.882  4018.910000   \n",
      "421566     45    B  118221  2012-10-26        58.85       3.882  4018.910000   \n",
      "421567     45    B  118221  2012-10-26        58.85       3.882  4018.910000   \n",
      "421568     45    B  118221  2012-10-26        58.85       3.882  4018.910000   \n",
      "421569     45    B  118221  2012-10-26        58.85       3.882  4018.910000   \n",
      "\n",
      "          MarkDown2    MarkDown3    MarkDown4    MarkDown5         CPI  \\\n",
      "0       3334.628621  1439.421384  3383.168256  4628.975079  211.096358   \n",
      "1       3334.628621  1439.421384  3383.168256  4628.975079  211.096358   \n",
      "2       3334.628621  1439.421384  3383.168256  4628.975079  211.096358   \n",
      "3       3334.628621  1439.421384  3383.168256  4628.975079  211.096358   \n",
      "4       3334.628621  1439.421384  3383.168256  4628.975079  211.096358   \n",
      "...             ...          ...          ...          ...         ...   \n",
      "421565    58.080000   100.000000   211.940000   858.330000  192.308899   \n",
      "421566    58.080000   100.000000   211.940000   858.330000  192.308899   \n",
      "421567    58.080000   100.000000   211.940000   858.330000  192.308899   \n",
      "421568    58.080000   100.000000   211.940000   858.330000  192.308899   \n",
      "421569    58.080000   100.000000   211.940000   858.330000  192.308899   \n",
      "\n",
      "        Unemployment  IsHoliday  Dept  Weekly_Sales  \n",
      "0              8.106      False     1      24924.50  \n",
      "1              8.106      False     2      50605.27  \n",
      "2              8.106      False     3      13740.12  \n",
      "3              8.106      False     4      39954.04  \n",
      "4              8.106      False     5      32229.38  \n",
      "...              ...        ...   ...           ...  \n",
      "421565         8.667      False    93       2487.80  \n",
      "421566         8.667      False    94       5203.31  \n",
      "421567         8.667      False    95      56017.47  \n",
      "421568         8.667      False    97       6817.48  \n",
      "421569         8.667      False    98       1076.80  \n",
      "\n",
      "[421570 rows x 16 columns]\n"
     ]
    }
   ],
   "source": [
    "print(X)"
   ]
  },
  {
   "cell_type": "code",
   "execution_count": null,
   "id": "b407f992",
   "metadata": {},
   "outputs": [],
   "source": [
    "X[\"Date\"]=pd.to_datetime(X[\"Date\"])\n",
    "X['year'] = X['Date'].dt.year\n",
    "X['quarter'] = X['Date'].dt.quarter\n",
    "X['month'] = X['Date'].dt.month\n",
    "X['day'] = X['Date'].dt.day\n",
    "X['week_of_year'] = X['Date'].dt.isocalendar().week"
   ]
  },
  {
   "cell_type": "code",
   "execution_count": null,
   "id": "33a289e3",
   "metadata": {},
   "outputs": [],
   "source": [
    "X.info()"
   ]
  },
  {
   "cell_type": "code",
   "execution_count": null,
   "id": "1c23e2af",
   "metadata": {},
   "outputs": [],
   "source": [
    "\n",
    "X['MarkDown_average'] = X[[\"MarkDown1\",\"MarkDown2\",\"MarkDown3\",\"MarkDown4\",\"MarkDown5\"]].mean(axis=1)\n",
    "X = X.drop(columns=[\"MarkDown1\",\"MarkDown2\",\"MarkDown3\",\"MarkDown4\",\"MarkDown5\"])"
   ]
  },
  {
   "cell_type": "code",
   "execution_count": null,
   "id": "f595019b",
   "metadata": {
    "scrolled": true
   },
   "outputs": [],
   "source": [
    "plt.figure(figsize=(15,10))\n",
    "cor = sns.heatmap(X.corr(),vmin=-1, vmax=1, annot=True) \n",
    "cor.set_title('Correlation Heatmap', fontdict={'fontsize':12}, pad=12);\n",
    "  \n",
    "# displaying heatmap \n",
    "plt.show() "
   ]
  },
  {
   "cell_type": "code",
   "execution_count": null,
   "id": "2b29451b",
   "metadata": {},
   "outputs": [],
   "source": [
    "sns.barplot(x = 'Type',\n",
    "            y = 'Weekly_Sales',\n",
    "            data = X,errorbar=('ci', 0))\n",
    "plt.show()"
   ]
  },
  {
   "cell_type": "code",
   "execution_count": null,
   "id": "e2e8855c",
   "metadata": {},
   "outputs": [],
   "source": [
    "sns.barplot(x = 'IsHoliday',\n",
    "            y = 'Weekly_Sales',\n",
    "            data = X,errorbar=('ci', 0))"
   ]
  },
  {
   "cell_type": "code",
   "execution_count": null,
   "id": "319a3a19",
   "metadata": {},
   "outputs": [],
   "source": [
    "sns.barplot(x = 'year',\n",
    "            y = 'Weekly_Sales',\n",
    "            data = X,errorbar=('ci', 0))\n",
    "plt.show()"
   ]
  },
  {
   "cell_type": "code",
   "execution_count": null,
   "id": "f68547fc",
   "metadata": {},
   "outputs": [],
   "source": [
    "sns.barplot(x = 'Type',\n",
    "            y = 'Weekly_Sales',hue='year',\n",
    "            data = X,errorbar=('ci', 0))\n",
    "\n",
    "plt.show()"
   ]
  },
  {
   "cell_type": "code",
   "execution_count": null,
   "id": "2b04bd5c",
   "metadata": {},
   "outputs": [],
   "source": [
    "sns.barplot(x = 'month',\n",
    "            y = 'Weekly_Sales',\n",
    "            data = X,errorbar=('ci', 0))\n",
    "\n",
    "plt.show()"
   ]
  },
  {
   "cell_type": "code",
   "execution_count": null,
   "id": "56b73e26",
   "metadata": {},
   "outputs": [],
   "source": [
    "sns.lineplot(x='month', y='Weekly_Sales', hue='year',data=X,errorbar=('ci', 0),\n",
    "             palette=['r', 'g','b']).set(title='Weekly Sales By month', xlabel='Month', ylabel='weekly_sales')\n",
    "sns.set_theme(style='white')\n",
    "\n",
    "     u"
   ]
  },
  {
   "cell_type": "code",
   "execution_count": null,
   "id": "afdb75a3",
   "metadata": {},
   "outputs": [],
   "source": [
    "#df = X.groupby(['week_of_year', 'year']).count()['Weekly_Sales']\n",
    "#df.unstack().plot()\n",
    "#plt.xticks(rotation=0)\n",
    "#plt.show()\n",
    "#df"
   ]
  },
  {
   "cell_type": "code",
   "execution_count": null,
   "id": "6a34ccf3",
   "metadata": {},
   "outputs": [],
   "source": [
    "sns.lineplot(x='week_of_year', y='Weekly_Sales', hue='year',data=X,errorbar=('ci', 0),\n",
    "             palette=['r', 'g','b']).set(title='Weekly Sales By weeks', xlabel='week_of_year', ylabel='weekly_sales')\n",
    "sns.set_theme(style='white')"
   ]
  },
  {
   "cell_type": "code",
   "execution_count": null,
   "id": "f852731b",
   "metadata": {},
   "outputs": [],
   "source": [
    "plt.figure(figsize=(10,8))\n",
    "sns.lineplot(x='day', y='Weekly_Sales', hue='month',data=X,errorbar=('ci', 0),\n",
    "             palette=['r', 'g','b']).set(title='Weekly Sales By month', xlabel='month', ylabel='weekly_sales')\n",
    "sns.set_theme(style='white')\n",
    "plt.legend(loc='upper left', title='year')\n",
    "\n",
    "plt.show()"
   ]
  },
  {
   "cell_type": "code",
   "execution_count": null,
   "id": "ce2f1ac8",
   "metadata": {},
   "outputs": [],
   "source": [
    "sns.barplot(x = 'Type',\n",
    "            y = 'MarkDown_average',errorbar=('ci', 0),\n",
    "            data = X)\n",
    "plt.show()"
   ]
  },
  {
   "cell_type": "code",
   "execution_count": null,
   "id": "dd0b07a7",
   "metadata": {},
   "outputs": [],
   "source": [
    "sns.barplot(x = 'year',\n",
    "            y = 'MarkDown_average',errorbar=('ci', 0),\n",
    "            data = X)\n",
    "plt.show()"
   ]
  },
  {
   "cell_type": "code",
   "execution_count": null,
   "id": "bdd8677b",
   "metadata": {},
   "outputs": [],
   "source": [
    "X.to_csv(\"D:\\\\X.csv\")"
   ]
  },
  {
   "cell_type": "code",
   "execution_count": null,
   "id": "1b8b5d74",
   "metadata": {},
   "outputs": [],
   "source": [
    "sns.barplot(x = 'year',\n",
    "            y = 'Fuel_Price',\n",
    "            data = X)\n",
    "plt.show()"
   ]
  },
  {
   "cell_type": "code",
   "execution_count": null,
   "id": "ea73f210",
   "metadata": {},
   "outputs": [],
   "source": [
    "sns.barplot(x = 'Type',\n",
    "            y = 'MarkDown_average',hue='year',\n",
    "            data = X)\n",
    "\n",
    "plt.legend(loc='upper right', title='year')\n",
    "plt.show()"
   ]
  },
  {
   "cell_type": "code",
   "execution_count": null,
   "id": "07dcd3e1",
   "metadata": {},
   "outputs": [],
   "source": [
    "sns.barplot(x = 'Type',\n",
    "            y = 'CPI',\n",
    "            data = X)\n",
    "\n",
    "plt.show()"
   ]
  },
  {
   "cell_type": "code",
   "execution_count": null,
   "id": "20bca189",
   "metadata": {},
   "outputs": [],
   "source": []
  }
 ],
 "metadata": {
  "kernelspec": {
   "display_name": "Python 3",
   "language": "python",
   "name": "python3"
  },
  "language_info": {
   "codemirror_mode": {
    "name": "ipython",
    "version": 3
   },
   "file_extension": ".py",
   "mimetype": "text/x-python",
   "name": "python",
   "nbconvert_exporter": "python",
   "pygments_lexer": "ipython3",
   "version": "3.8.8"
  }
 },
 "nbformat": 4,
 "nbformat_minor": 5
}
